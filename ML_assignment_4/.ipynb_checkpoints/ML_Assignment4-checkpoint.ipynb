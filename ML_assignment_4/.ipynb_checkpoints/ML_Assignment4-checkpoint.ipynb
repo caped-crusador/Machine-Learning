{
 "cells": [
  {
   "cell_type": "markdown",
   "metadata": {},
   "source": [
    "# Assignment 4"
   ]
  },
  {
   "cell_type": "markdown",
   "metadata": {},
   "source": [
    "In this assignment, we are supposed to apply the XOR problem of MLP to a letter recognition task. In addition to that, we also need to test our model on noisy data and determine the extent of noise our model can accept. The data in the _pattern1.txt_ file comprise of 312 rows and 13 columns. Each letter is represented as a 12x13 matrix in the alphabetical order.  "
   ]
  },
  {
   "cell_type": "markdown",
   "metadata": {},
   "source": [
    "### Task 1"
   ]
  },
  {
   "cell_type": "markdown",
   "metadata": {},
   "source": [
    "In this task, we  will implement the multi-layer percepton (MLP) and will train the model on the dataset of alphabets given in the file _pattern1.txt_ . The output of the alogorithm will be the ASCII representation of the charcters. \n",
    "In order to implement this, the 12x13 matrix for each charcter is flattened into an array of 156 elements resulting in a 26x156 shape trainibg matrix. Corresponding to that, an output matrix of shape 26x7 which comprise of ASCII values of the characters is used. The results are visualized through plotting the error."
   ]
  },
  {
   "cell_type": "code",
   "execution_count": 1,
   "metadata": {},
   "outputs": [],
   "source": [
    "import numpy as np\n",
    "import pandas as pd\n",
    "import matplotlib.pyplot as plt\n",
    "\n",
    "# import the daata and prepare it for training\n",
    "X_patt1 = pd.read_csv(\"pattern1.txt\", sep=\" \", header=None)\n",
    "X_patt1 = np.array(X_patt1)\n",
    "X = np.array(np.split(X_patt1, 26))          # separatting all the characters\n",
    "X = X.reshape(26, 156)                       # flattening the characters\n",
    "X = np.column_stack([X, np.ones(26)])        # adding the threshold column\n",
    "\n",
    "Y = np.array([list('{0:07b}'.format(65))])   # creating array of ASCII values of characters\n",
    "for i in range(ord(\"B\"), ord(\"Z\")+1):\n",
    "    Y = np.vstack((Y, list('{0:07b}'.format(i))))\n",
    "Y = Y.astype(float)\n",
    "\n",
    "\n",
    "def MLP(X, Y, Ntrials, Nh=26):    # X = trainig set, y = trainig labels, Ntrials = no. of iterations, Nh = no. of hidden nodes\n",
    "    # model specs\n",
    "    Ni = 157\n",
    "    No = 7\n",
    "    # Parameter and array initialization\n",
    "    wh = np.random.randn(Nh, Ni)\n",
    "    d_wh = np.zeros(wh.shape)\n",
    "    wo = np.random.randn(No, Nh)\n",
    "    d_wo = np.zeros(wo.shape)\n",
    "\n",
    "    error = np.array([])\n",
    "\n",
    "    for trial in range(Ntrials):\n",
    "        h = 1/(1+np.exp(-np.dot(wh, X.T)))        # hidden activation for all patterns\n",
    "        y = 1/(1+np.exp(-np.dot(wo, h)))          # output for all patterns\n",
    "\n",
    "        delta_output = y*(1-y)*(Y-y.T).T\n",
    "        delta_hidden = h*(1-h)*(np.dot(wo.T, delta_output))  # delta backprop\n",
    "\n",
    "        # updating weights and computing error\n",
    "        d_wo = 0.9*d_wo + np.dot(delta_output, h.T)\n",
    "        wo = wo + 0.1*d_wo\n",
    "\n",
    "        d_wh = 0.9*d_wh + np.dot(delta_hidden, X)\n",
    "        wh = wh + 0.1*d_wh\n",
    "\n",
    "        error = np.append(error, np.sum(np.abs(Y-y.T)))\n",
    "    return error, wh, wo\n",
    "\n",
    "\n",
    "error, wh, wo = MLP(X, Y, 1000)                # trainig the model and returning final weights and error"
   ]
  },
  {
   "cell_type": "code",
   "execution_count": 2,
   "metadata": {},
   "outputs": [
    {
     "data": {
      "image/png": "[encoded data removed]",
      "text/plain": [
       "<matplotlib.figure.Figure at 0x2de4704de10>"
      ]
     },
     "metadata": {},
     "output_type": "display_data"
    },
    {
     "name": "stdout",
     "output_type": "stream",
     "text": [
      "The error was reduced up to :  1.2954478142450272\n"
     ]
    }
   ],
   "source": [
    "# Plot the results\n",
    "plt.plot(error)\n",
    "plt.xlabel(\"iterations\")\n",
    "plt.ylabel(\"Absolute error\")\n",
    "plt.title(\"Training of MLP on characters dataset\")\n",
    "plt.show()\n",
    "print(\"The error was reduced up to : \",error[-1])"
   ]
  },
  {
   "cell_type": "markdown",
   "metadata": {},
   "source": [
    "The Absolute error while training was significantly reduced in the intial iterations while continues to fall in small amounts till the final iteration. Since the absolute error is reduced to less than 1 for this perticular problem, it can be deduced that the algorithm was successful in learning this perticular problem."
   ]
  },
  {
   "cell_type": "markdown",
   "metadata": {},
   "source": [
    "### Task 2"
   ]
  },
  {
   "cell_type": "markdown",
   "metadata": {},
   "source": [
    "In this task, we will test our model created in task 1 against noisy patterns and will determine the limit upto which our model can accept the noise and predict the characters correctly. \n",
    "For adding the noise, we are randomly selecting rows and columns form the characters dataset and flipping at that perticular position. The noise is added to according to a percentage, i.e. if one wants to add 10% noise in the dataset, a total of 225 bits will be flipped in the dataset. (0's will be converted to 1's and vice-versa)"
   ]
  },
  {
   "cell_type": "code",
   "execution_count": 3,
   "metadata": {},
   "outputs": [
    {
     "name": "stdout",
     "output_type": "stream",
     "text": [
      "accuracy after adding 10% noise :  84.61538461538461 %\n",
      "22 characters correctly predicted out of 26\n"
     ]
    }
   ],
   "source": [
    "def add_noise(X, noise_percent):\n",
    "    np.random.seed(10)\n",
    "    x_noisy = np.copy(X)\n",
    "    # add noisy examples in training set\n",
    "    noise_points = int(156 * (noise_percent / 100))\n",
    "    for i in np.random.choice(156, noise_points):\n",
    "        for j in np.random.choice(26, noise_points):\n",
    "            if x_noisy[j][i] == 0:\n",
    "                x_noisy[j][i] = 1\n",
    "            else:\n",
    "                x_noisy[j][i] = 0\n",
    "    return x_noisy\n",
    "\n",
    "# predict\n",
    "def predict(X_test, wh, wo):\n",
    "    h_t = 1 / (1 + np.exp(-np.dot(wh, X_test.T)))  # hidden activation fro all patterns\n",
    "    y_t = 1 / (1 + np.exp(-np.dot(wo, h_t)))\n",
    "\n",
    "    y_t[y_t > 0.5] = 1\n",
    "    y_t[y_t < 0.5] = 0\n",
    "    y_t = y_t.astype(int).astype(str)\n",
    "    y_t = y_t.T\n",
    "    predicted = np.array([])\n",
    "    for i in y_t:\n",
    "        predicted = np.append(predicted, chr(int(\"\".join(i), 2)))\n",
    "    return predicted\n",
    "\n",
    "# add the noise (10%)\n",
    "X_noisy = add_noise(X, noise_percent=10)\n",
    "\n",
    "# making predictions and calculating accuarcy\n",
    "predicted = predict(X_noisy, wh, wo)             # weights from training\n",
    "true_labels = np.array([list(\"ABCDEFGHIJKLMNOPQRSTUVWXYZ\")])        # true labels\n",
    "correct_predictions = np.count_nonzero(predicted == true_labels)\n",
    "accuracy = (correct_predictions/26)*100\n",
    "print(\"accuracy after adding 10% noise : \", accuracy, \"%\")\n",
    "print(correct_predictions,\"characters correctly predicted out of 26\")"
   ]
  },
  {
   "cell_type": "code",
   "execution_count": 4,
   "metadata": {},
   "outputs": [
    {
     "name": "stdout",
     "output_type": "stream",
     "text": [
      "accuracy after adding 5% noise :  100.0 %\n",
      "26 characters correctly predicted out of 26\n"
     ]
    }
   ],
   "source": [
    "# add the noise (5%)\n",
    "X_noisy = add_noise(X, noise_percent=5)\n",
    "\n",
    "# making predictions and calculating accuarcy\n",
    "predicted = predict(X_noisy, wh, wo)             # weights from training\n",
    "correct_predictions = np.count_nonzero(predicted == true_labels)\n",
    "accuracy = (correct_predictions/26)*100\n",
    "print(\"accuracy after adding 5% noise : \", accuracy,\"%\")\n",
    "print(correct_predictions, \"characters correctly predicted out of 26\")\n"
   ]
  },
  {
   "cell_type": "code",
   "execution_count": 5,
   "metadata": {},
   "outputs": [
    {
     "name": "stdout",
     "output_type": "stream",
     "text": [
      "accuracy after adding 20% noise :  65.38461538461539 %\n",
      "17 characters correctly predicted out of 26\n"
     ]
    }
   ],
   "source": [
    "# add the noise (20%)\n",
    "X_noisy = add_noise(X, noise_percent=20)\n",
    "\n",
    "# making predictions and calculating accuarcy\n",
    "predicted = predict(X_noisy, wh, wo)             # weights from training\n",
    "correct_predictions = np.count_nonzero(predicted == true_labels)\n",
    "accuracy = (correct_predictions/26)*100\n",
    "print(\"accuracy after adding 20% noise : \", accuracy, \"%\")\n",
    "print(correct_predictions, \"characters correctly predicted out of 26\")"
   ]
  },
  {
   "cell_type": "markdown",
   "metadata": {},
   "source": [
    "As expected, the algorithm works prettry well if the noise precent is low and tends to faulter when noise is increased. when only 5% noise is added, the algorithm predicts all the characters correctly most of the time. While when the noise is 10%, the accuracy drops to ~90% and dropping of accuracy continues as noise is increased. \n",
    "This perticular configuration of the MLP algorithm is tolerent up to 5-10% of noise. The characters that have a simple geometry (like \"C\") can tolertate more noise that the characters with difficult geometry (like \"B\")"
   ]
  },
  {
   "cell_type": "markdown",
   "metadata": {},
   "source": [
    "### Task 3"
   ]
  },
  {
   "cell_type": "markdown",
   "metadata": {},
   "source": [
    "In this task, we are supposed to make prediction about the charatcter in the _pattern2.txt_ file. This file contains a noisy implementation of an character (currently unknown). we need to identily what the character is.\n",
    "First of all we will train our model on pure as well as noisy data to get better predictions of the noisy pattern 2.\n",
    "we will then run the training and prediction 20 times to get the most frequent character in the predictions. The most frequent character is most likely to be the correct answer."
   ]
  },
  {
   "cell_type": "code",
   "execution_count": 7,
   "metadata": {},
   "outputs": [
    {
     "name": "stdout",
     "output_type": "stream",
     "text": [
      "character 'K' has occured 7 times in 20 iterations\n"
     ]
    }
   ],
   "source": [
    "X_copy = np.copy(X)\n",
    "X_copy = add_noise(X_copy, noise_percent=30)\n",
    "X_noisy = np.vstack((X, X_copy))\n",
    "X_copy = np.copy(X)\n",
    "X_copy = add_noise(X_copy, noise_percent=60)\n",
    "X_noisy = np.vstack((X_noisy, X_copy))\n",
    "Y_train = np.vstack((Y,Y))\n",
    "Y_train = np.vstack((Y_train, Y))\n",
    "\n",
    "# loading pattern 2\n",
    "X_patt2 = pd.read_csv(\"pattern2.txt\", sep=\" \", header=None)\n",
    "X_patt2 = X_patt2.dropna(\"columns\")\n",
    "X_patt2.columns = np.arange(13)\n",
    "X_patt2 = np.array(X_patt2)\n",
    "X_test = np.append(X_patt2.reshape((1, 156)), 1)\n",
    "\n",
    "def predict_single(X_test, wh, wo):\n",
    "    h_t = 1 / (1 + np.exp(-np.dot(wh, X_test)))  # hidden activation f0r all patterns\n",
    "    y_t = 1 / (1 + np.exp(-np.dot(wo, h_t)))\n",
    "\n",
    "    y_t[y_t > 0.5] = 1\n",
    "    y_t[y_t < 0.5] = 0\n",
    "    y_t = y_t.astype(int).astype(str)\n",
    "    predicted = chr(int(\"\".join(y_t), 2))\n",
    "    return predicted\n",
    "\n",
    "# making predictions\n",
    "patt2 = np.array([])\n",
    "for i in range(20):\n",
    "    error, wh, wo = MLP(X_noisy, Y_train, 1000, Nh=100)\n",
    "    patt2 = np.append(patt2, predict_single(X_test, wh, wo))\n",
    "print(\"character 'K' has occured\", np.count_nonzero(patt2[patt2==\"K\"]), \"times in 20 iterations\")"
   ]
  },
  {
   "cell_type": "markdown",
   "metadata": {},
   "source": [
    "According to my model's predictions, the pattern 2 is the letter \"K\"."
   ]
  },
  {
   "cell_type": "markdown",
   "metadata": {},
   "source": [
    "### Task 4"
   ]
  },
  {
   "cell_type": "markdown",
   "metadata": {},
   "source": [
    "In this task, we need to evaluate our model's performance while training on noisy patterns. In addition to that, we will also find out if the performance of the model will be affected by number of nodes in the hidden layer."
   ]
  },
  {
   "cell_type": "code",
   "execution_count": 8,
   "metadata": {},
   "outputs": [
    {
     "data": {
      "image/png": "[encoded data removed]",
      "text/plain": [
       "<matplotlib.figure.Figure at 0x2de44ca7278>"
      ]
     },
     "metadata": {},
     "output_type": "display_data"
    }
   ],
   "source": [
    "X_copy = np.copy(X)\n",
    "X_copy = add_noise(X_copy, noise_percent=10)\n",
    "X_noisy = np.vstack((X, X_copy))\n",
    "X_copy = np.copy(X)\n",
    "X_copy = add_noise(X_copy, noise_percent=20)\n",
    "X_noisy = np.vstack((X_noisy, X_copy))\n",
    "Y_train = np.vstack((Y,Y))\n",
    "Y_train = np.vstack((Y_train, Y))\n",
    "error, wh, wo = MLP(X_noisy, Y_train, 200)\n",
    "# Plot the results\n",
    "plt.plot(error, label=\"26\")\n",
    "plt.xlabel(\"iterations\")\n",
    "plt.ylabel(\"Absolute error\")\n",
    "plt.title(\"Training of MLP (different number of hidden nodes)\")\n",
    "error, wh, wo = MLP(X_noisy, Y_train, 200, Nh=100)\n",
    "plt.plot(error, label=\"100\")\n",
    "error, wh, wo = MLP(X_noisy, Y_train, 200, Nh=50)\n",
    "plt.plot(error, label=\"50\")\n",
    "plt.legend()\n",
    "plt.show()"
   ]
  },
  {
   "cell_type": "markdown",
   "metadata": {},
   "source": [
    "Upon trainingg the model on noisy data, where the training dataset contains examples of pure, 10% noise and 20% noise, the error of the training phase tends to rise as we increase the number of hidden nodes more than 50. TIt can be said that the optimum number of nodes in the hidden layer for this problem is 50. The error does not minimize well if we increase the number of nodes.\n",
    "More plots can be drawn to verify this."
   ]
  },
  {
   "cell_type": "code",
   "execution_count": 14,
   "metadata": {},
   "outputs": [
    {
     "data": {
      "image/png": "[encoded data removed]",
      "text/plain": [
       "<matplotlib.figure.Figure at 0x2de51b4df98>"
      ]
     },
     "metadata": {},
     "output_type": "display_data"
    }
   ],
   "source": [
    "X_copy = np.copy(X)\n",
    "X_copy = add_noise(X_copy, noise_percent=10)\n",
    "X_noisy = np.vstack((X, X_copy))\n",
    "X_copy = np.copy(X)\n",
    "X_copy = add_noise(X_copy, noise_percent=20)\n",
    "X_noisy = np.vstack((X_noisy, X_copy))\n",
    "Y_train = np.vstack((Y,Y))\n",
    "Y_train = np.vstack((Y_train, Y))\n",
    "\n",
    "error, wh, wo = MLP(X_noisy, Y_train, 200, Nh=100)\n",
    "plt.plot(error, label=\"100\")\n",
    "plt.xlabel(\"iterations\")\n",
    "plt.ylabel(\"Absolute error\")\n",
    "plt.title(\"Training of MLP (different number of hidden nodes)\")\n",
    "error, wh, wo = MLP(X_noisy, Y_train, 200, Nh=200)\n",
    "plt.plot(error, label=\"200\")\n",
    "error, wh, wo = MLP(X_noisy, Y_train, 200, Nh=300)\n",
    "plt.plot(error, label=\"300\")\n",
    "plt.legend()\n",
    "plt.show()"
   ]
  },
  {
   "cell_type": "markdown",
   "metadata": {},
   "source": [
    "Now We will check the accuracy of the trained model (on a mixture of pure and noisy examples) on noisy data."
   ]
  },
  {
   "cell_type": "code",
   "execution_count": 15,
   "metadata": {},
   "outputs": [
    {
     "name": "stdout",
     "output_type": "stream",
     "text": [
      "--Results when trained on noisy patterns and number of hidden nodes 50--\n",
      "accuracy after adding 20% noise :  100.0 %\n",
      "26 characters correctly predicted out of 26\n"
     ]
    }
   ],
   "source": [
    "# making predictions and calculating accuarcy\n",
    "error, wh, wo = MLP(X_noisy, Y_train, 1000, Nh=50)\n",
    "X_noisy_test = add_noise(X, noise_percent=20)\n",
    "predicted = predict(X_noisy_test, wh, wo)             # weights from training\n",
    "correct_predictions = np.count_nonzero(predicted == true_labels)\n",
    "accuracy = (correct_predictions/26)*100\n",
    "print(\"--Results when trained on noisy patterns and number of hidden nodes 50--\")\n",
    "print(\"accuracy after adding 20% noise : \", accuracy, \"%\")\n",
    "print(correct_predictions, \"characters correctly predicted out of 26\")"
   ]
  },
  {
   "cell_type": "markdown",
   "metadata": {},
   "source": [
    "The model works pretty well on noisy data when keeping the number of hidden nodes as 50. Compared to the model's accuacy when trained on only pure examples, which was ~76% keeping the noise same, it works better. "
   ]
  },
  {
   "cell_type": "code",
   "execution_count": 11,
   "metadata": {},
   "outputs": [
    {
     "name": "stdout",
     "output_type": "stream",
     "text": [
      "--Results when trained on noisy patterns and number of hidden nodes 26--\n",
      "accuracy after adding 20% noise :  100.0 %\n",
      "26 characters correctly predicted out of 26\n"
     ]
    }
   ],
   "source": [
    "# making predictions and calculating accuarcy\n",
    "error, wh, wo = MLP(X_noisy, Y_train, 1000, Nh=26)\n",
    "X_noisy_test = add_noise(X, noise_percent=20)\n",
    "predicted = predict(X_noisy_test, wh, wo)             # weights from training\n",
    "correct_predictions = np.count_nonzero(predicted == true_labels)\n",
    "accuracy = (correct_predictions/26)*100\n",
    "print(\"--Results when trained on noisy patterns and number of hidden nodes 26--\")\n",
    "print(\"accuracy after adding 20% noise : \", accuracy, \"%\")\n",
    "print(correct_predictions, \"characters correctly predicted out of 26\")"
   ]
  },
  {
   "cell_type": "markdown",
   "metadata": {},
   "source": [
    "Even on reducing the number of hidden nodes to initial 26, the accuracy remains constantly high. While increasing the number of hidden nodes from 50 up till 100,  will encounter a drastic change shown below."
   ]
  },
  {
   "cell_type": "code",
   "execution_count": 12,
   "metadata": {},
   "outputs": [
    {
     "name": "stdout",
     "output_type": "stream",
     "text": [
      "--Results when trained on noisy patterns and number of hidden nodes 100--\n",
      "accuracy after adding 20% noise :  50.0 %\n",
      "13 characters correctly predicted out of 26\n"
     ]
    }
   ],
   "source": [
    "# making predictions and calculating accuarcy\n",
    "error, wh, wo = MLP(X_noisy, Y_train, 1000, Nh=100)\n",
    "X_noisy_test = add_noise(X, noise_percent=20)\n",
    "predicted = predict(X_noisy_test, wh, wo)             # weights from training\n",
    "correct_predictions = np.count_nonzero(predicted == true_labels)\n",
    "accuracy = (correct_predictions/26)*100\n",
    "print(\"--Results when trained on noisy patterns and number of hidden nodes 100--\")\n",
    "print(\"accuracy after adding 20% noise : \", accuracy, \"%\")\n",
    "print(correct_predictions, \"characters correctly predicted out of 26\")"
   ]
  },
  {
   "cell_type": "markdown",
   "metadata": {},
   "source": [
    "We can see accuracy drop when training the model on 100 hidden layer nodes. this can be accunted to the partial learning of the model due to excessively large number of hidden layer nodes."
   ]
  }
 ],
 "metadata": {
  "kernelspec": {
   "display_name": "Python 3",
   "language": "python",
   "name": "python3"
  },
  "language_info": {
   "codemirror_mode": {
    "name": "ipython",
    "version": 3
   },
   "file_extension": ".py",
   "mimetype": "text/x-python",
   "name": "python",
   "nbconvert_exporter": "python",
   "pygments_lexer": "ipython3",
   "version": "3.6.4"
  }
 },
 "nbformat": 4,
 "nbformat_minor": 2
}
