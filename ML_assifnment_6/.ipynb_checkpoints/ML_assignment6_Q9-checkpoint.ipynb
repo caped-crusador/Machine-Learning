{
 "cells": [
  {
   "cell_type": "markdown",
   "metadata": {},
   "source": [
    "## Solution to Q9"
   ]
  },
  {
   "cell_type": "markdown",
   "metadata": {},
   "source": [
    "Below is the neural network implementation of a Reinforcement learning alrgorithm to solve the linear maze example"
   ]
  },
  {
   "cell_type": "code",
   "execution_count": 1,
   "metadata": {},
   "outputs": [
    {
     "name": "stdout",
     "output_type": "stream",
     "text": [
      "WARNING:tensorflow:From c:\\users\\shakti\\appdata\\local\\programs\\python\\python36\\lib\\site-packages\\tensorflow\\python\\util\\tf_should_use.py:118: initialize_all_variables (from tensorflow.python.ops.variables) is deprecated and will be removed after 2017-03-02.\n",
      "Instructions for updating:\n",
      "Use `tf.global_variables_initializer` instead.\n"
     ]
    }
   ],
   "source": [
    "import numpy as np\n",
    "import random\n",
    "import tensorflow as tf\n",
    "\n",
    "# Variables used in the network\n",
    "input_1 = tf.placeholder(shape=[1, 5], dtype=tf.float32)\n",
    "weights = tf.Variable(tf.random_uniform([5, 2], 0, 0.01))\n",
    "Q_out = tf.matmul(input_1, weights)\n",
    "predict_policy = tf.argmax(Q_out, 1)\n",
    "\n",
    "# loss calculation\n",
    "Q_new = tf.placeholder(shape=[1,2], dtype=tf.float32)\n",
    "loss = tf.reduce_sum(tf.square(Q_new - Q_out))\n",
    "trainer = tf.train.GradientDescentOptimizer(learning_rate=0.1)\n",
    "modelUpdate = trainer.minimize(loss)\n",
    "\n",
    "init = tf.initialize_all_variables()\n",
    "# parameters\n",
    "gamma = 0.5\n",
    "iterations = 10\n",
    "\n",
    "\n",
    "def tau(s, a):\n",
    "    if s == 0 or s == 4:\n",
    "        return s\n",
    "    else:\n",
    "        return s+a\n",
    "\n",
    "\n",
    "def rho(s, a):\n",
    "    return (s == 1 and a == -1)+2*(s == 3 and a == 1)\n",
    "\n",
    "\n",
    "def calc_policy(Q):\n",
    "    policy = np.zeros(5)\n",
    "    for s in range(0, 5):\n",
    "        action_idx = np.argmax(Q[s, :])\n",
    "        policy[s] = 2*action_idx-1\n",
    "        policy[0] = policy[4] = 0\n",
    "    return policy.astype(int)\n",
    "\n",
    "\n",
    "def idx(a):\n",
    "    return int((a+1)/2)\n",
    "\n",
    "with tf.Session() as sess:\n",
    "    sess.run(init)\n",
    "    \n",
    "    for iter in range(iterations):\n",
    "        s = 2\n",
    "        rewardList = []\n",
    "        rAll = 0\n",
    "        d = False\n",
    "        j = 0\n",
    "        e = 0.1\n",
    "\n",
    "        while j < 99:\n",
    "            j += 1\n",
    "\n",
    "            # choose an action\n",
    "            a, allQ = sess.run([predict_policy, Q_out], feed_dict={input_1:np.identity(5)[s:s+1]})\n",
    "            \n",
    "            # randomized selection of actions\n",
    "            if np.random.rand(1) < e:\n",
    "                a[0] = np.random.randint(2)\n",
    "            \n",
    "            # get new state and reward from env\n",
    "            s1 = tau(s, a[0])\n",
    "            r = rho(s, a[0])\n",
    "\n",
    "            # obtain Q values by feeding new state through network\n",
    "            Q1 = sess.run(Q_out, feed_dict={input_1:np.identity(5)[s:s+1]})\n",
    "\n",
    "            Q1_max = np.max(Q1)\n",
    "            targetQ = allQ\n",
    "            targetQ[0, idx(a)] = r + gamma*Q1_max\n",
    "\n",
    "            # train the network network\n",
    "            _,W1 = sess.run([modelUpdate, weights], feed_dict={input_1:np.identity(5)[s:s+1],\n",
    "                                                         Q_new:targetQ})\n",
    "            rAll += r\n",
    "            s = s1\n",
    "        rewardList.append(rAll)\n",
    "    final_W = sess.run(weights)"
   ]
  },
  {
   "cell_type": "code",
   "execution_count": 2,
   "metadata": {},
   "outputs": [
    {
     "name": "stdout",
     "output_type": "stream",
     "text": [
      "[[4.7499072e-03 6.7477953e-03]\n",
      " [8.9720618e-03 7.1238526e-03]\n",
      " [1.5994516e-03 1.5938255e-03]\n",
      " [9.5234747e-04 2.6065714e+00]\n",
      " [4.0234790e-26 4.2528835e-26]]\n"
     ]
    }
   ],
   "source": [
    "# print the final weights found out by the network\n",
    "print(final_W)"
   ]
  },
  {
   "cell_type": "code",
   "execution_count": 3,
   "metadata": {},
   "outputs": [
    {
     "name": "stdout",
     "output_type": "stream",
     "text": [
      "Optimal Policy : \n"
     ]
    },
    {
     "data": {
      "text/plain": [
       "array([ 0, -1, -1,  1,  0])"
      ]
     },
     "execution_count": 3,
     "metadata": {},
     "output_type": "execute_result"
    }
   ],
   "source": [
    "# print optimal policy\n",
    "print(\"Optimal Policy : \")\n",
    "calc_policy(final_W)"
   ]
  },
  {
   "cell_type": "markdown",
   "metadata": {},
   "source": [
    "#### References\n",
    " [1] \"Simple Reinforcement Learning with Tensorflow Part 0: Q-Learning with Tables and Neural Networks\", Medium, 2018. [Online]. Available: https://medium.com/emergent-future/simple-reinforcement-learning-with-tensorflow-part-0-q-learning-with-tables-and-neural-networks-d195264329d0."
   ]
  },
  {
   "cell_type": "code",
   "execution_count": null,
   "metadata": {},
   "outputs": [],
   "source": []
  }
 ],
 "metadata": {
  "kernelspec": {
   "display_name": "Python 3",
   "language": "python",
   "name": "python3"
  },
  "language_info": {
   "codemirror_mode": {
    "name": "ipython",
    "version": 3
   },
   "file_extension": ".py",
   "mimetype": "text/x-python",
   "name": "python",
   "nbconvert_exporter": "python",
   "pygments_lexer": "ipython3",
   "version": "3.6.4"
  }
 },
 "nbformat": 4,
 "nbformat_minor": 2
}
