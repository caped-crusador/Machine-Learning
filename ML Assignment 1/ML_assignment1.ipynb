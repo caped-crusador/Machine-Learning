{
 "cells": [
  {
   "cell_type": "markdown",
   "metadata": {},
   "source": [
    "# Assignment 1"
   ]
  },
  {
   "cell_type": "markdown",
   "metadata": {},
   "source": [
    "In the first problem of the assigment, we need to import the MNIST dataset using tensorflow and display some of the examples of the dataset. The examples are in the form of images of hamdwritten numbers."
   ]
  },
  {
   "cell_type": "markdown",
   "metadata": {},
   "source": [
    "The python code below imports the MNIST data-set from tensorflow and show some of the examples from the data-set."
   ]
  },
  {
   "cell_type": "code",
   "execution_count": 29,
   "metadata": {},
   "outputs": [
    {
     "name": "stdout",
     "output_type": "stream",
     "text": [
      "Extracting MNSIT_data/train-images-idx3-ubyte.gz\n",
      "Extracting MNSIT_data/train-labels-idx1-ubyte.gz\n",
      "Extracting MNSIT_data/t10k-images-idx3-ubyte.gz\n",
      "Extracting MNSIT_data/t10k-labels-idx1-ubyte.gz\n",
      "\n",
      "\n",
      "Example 1\n",
      "\n",
      "\n",
      "Example 5\n",
      "\n",
      "\n",
      "Example 10\n",
      "\n",
      "\n",
      "Example 20\n"
     ]
    },
    {
     "data": {
      "image/png": "[encoded data removed]",
      "text/plain": [
       "<matplotlib.figure.Figure at 0x2642b48e470>"
      ]
     },
     "metadata": {},
     "output_type": "display_data"
    },
    {
     "data": {
      "image/png": "[encoded data removed]",
      "text/plain": [
       "<matplotlib.figure.Figure at 0x2642ca1e898>"
      ]
     },
     "metadata": {},
     "output_type": "display_data"
    },
    {
     "data": {
      "image/png": "[encoded data removed]",
      "text/plain": [
       "<matplotlib.figure.Figure at 0x2642ce59e80>"
      ]
     },
     "metadata": {},
     "output_type": "display_data"
    },
    {
     "data": {
      "image/png": "[encoded data removed]",
      "text/plain": [
       "<matplotlib.figure.Figure at 0x2642ce9e6d8>"
      ]
     },
     "metadata": {},
     "output_type": "display_data"
    }
   ],
   "source": [
    "from tensorflow.examples.tutorials.mnist import input_data\n",
    "import matplotlib.pyplot as plt\n",
    "\n",
    "\n",
    "def show_examples():\n",
    "    mnsit = input_data.read_data_sets(\"MNSIT_data/\", one_hot=True)\n",
    "    images = mnsit.train.images[0:50]\n",
    "#     print(\"examples 3 to 9\", images[3:10])\n",
    "    print(\"\\n\\nExample 1\")\n",
    "    example_1 = plt.figure(1)\n",
    "    plt.imshow(images[0].reshape([28, 28]), cmap=\"gray\")\n",
    "#     example_1.show()\n",
    "    print(\"\\n\\nExample 5\")\n",
    "    example_2 = plt.figure(2)\n",
    "    plt.imshow(images[4].reshape([28, 28]), cmap=\"gray\")\n",
    "#     example_2.show()\n",
    "    print(\"\\n\\nExample 10\")\n",
    "    example_3 = plt.figure(3)\n",
    "    plt.imshow(images[9].reshape([28, 28]), cmap=\"gray\")\n",
    "#     example_3.show()\n",
    "    print(\"\\n\\nExample 20\")\n",
    "    example_4 = plt.figure(4)\n",
    "    plt.imshow(images[19].reshape([28, 28]), cmap=\"gray\")\n",
    "#     example_4.show()\n",
    "\n",
    "\n",
    "show_examples()"
   ]
  },
  {
   "cell_type": "markdown",
   "metadata": {},
   "source": [
    "***"
   ]
  },
  {
   "cell_type": "markdown",
   "metadata": {},
   "source": [
    "### Problem 2:"
   ]
  },
  {
   "cell_type": "markdown",
   "metadata": {},
   "source": [
    "Objective of the second problem is to gain knowledge of Cross-Validation technique used for validating training models. In addition to that, learning to implement the K-fold cross-validation on a given trainig model. lastly, camparision of two learning algoritms SVM and RF is done. "
   ]
  },
  {
   "cell_type": "markdown",
   "metadata": {},
   "source": [
    "#### What is Cross Validation?"
   ]
  },
  {
   "cell_type": "markdown",
   "metadata": {},
   "source": [
    "Cross-validation is a technique used to check overfitting of the trainig data and to know the generalization of the model over unseen independent test data. Several iterations of training and testing is done over validation data and the results show how accurately the model will predict unseen data. \n",
    "Among different types of cross validation, K-fold cross-validation is used often in machine learning field."
   ]
  },
  {
   "cell_type": "markdown",
   "metadata": {},
   "source": [
    "The pyhton code below makes a implements the K-fold cross-validation on the iris data-set. The results of the cross-validation done by me and the cross-calidation done by the native python implementation from *sklearn* package are then compared. The cross-validation is done for two learning algoirithms, Random Forest and Support Vector Machines. The results from both of the leanrnig alogrithms are then further compared.  "
   ]
  },
  {
   "cell_type": "code",
   "execution_count": 30,
   "metadata": {},
   "outputs": [
    {
     "name": "stdout",
     "output_type": "stream",
     "text": [
      "Shape of the iris data-set :  (150, 5)\n",
      "\n",
      "\n",
      "\n",
      "***************k-fold Cross-Validation results for k=10****************\n",
      "\n",
      "Cross validated scores (using SVM) on native implementation :  0.9875\n",
      "Cross validated scores (using RF) on native implementation :  0.9875\n",
      "Cross Validated scores (using SVM) on my implementation :  0.9864285714285714\n",
      "Cross Validated scores (using RF) on my implementation :  0.9697619047619048\n"
     ]
    }
   ],
   "source": [
    "import numpy as np\n",
    "from sklearn import svm\n",
    "from sklearn.ensemble import RandomForestClassifier\n",
    "from sklearn.model_selection import KFold, cross_val_score\n",
    "\n",
    "# importing the data\n",
    "iris_data = np.loadtxt(\"iris.data\", delimiter=\",\")\n",
    "np.random.seed(10)\n",
    "np.random.shuffle(iris_data)\n",
    "print(\"Shape of the iris data-set : \", iris_data.shape)\n",
    "\n",
    "# splitting into testing and training data-sets\n",
    "train_X = iris_data[0::2, 0:4]\n",
    "train_y = np.int32(iris_data[0::2, 4])\n",
    "test_X = iris_data[1::2, 0:4]\n",
    "test_y = np.int32(iris_data[1::2, 4])\n",
    "\n",
    "# training a SVM classifier\n",
    "clf1 = svm.SVC(kernel=\"linear\")\n",
    "clf1.fit(train_X, train_y)\n",
    "\n",
    "kf = KFold(n_splits=10)\n",
    "CV_scores_SVM = cross_val_score(clf1, train_X, train_y, cv=kf)\n",
    "\n",
    "# training a Random Forest Classifier\n",
    "clf2 = RandomForestClassifier()\n",
    "clf2.fit(train_X, train_y)\n",
    "\n",
    "kf = KFold(n_splits=10)\n",
    "CV_scores_RF = cross_val_score(clf2, train_X, train_y, cv=kf)\n",
    "\n",
    "\n",
    "# my implementation of cross validation\n",
    "accuracy_scores_RF = np.array([])\n",
    "accuracy_scores_SVM = np.array([])\n",
    "for i in range(20):\n",
    "    CV_test_X = iris_data[i::10, 0:4]\n",
    "    CV_test_y = iris_data[i::10, 4]\n",
    "    CV_train_X = np.array([])\n",
    "    CV_train_y = np.array([])\n",
    "    for j in range(10):\n",
    "        if j == i:\n",
    "            continue\n",
    "        if len(CV_train_X) == 0:\n",
    "            CV_train_X = iris_data[j::10, 0:4]\n",
    "            CV_train_y = iris_data[j::10, 4]\n",
    "        else:\n",
    "            CV_train_X = np.concatenate((CV_train_X, iris_data[j::10, 0:4]), axis=0)\n",
    "            CV_train_y = np.concatenate((CV_train_y, iris_data[j::10, 4]), axis=0)\n",
    "    clf = svm.SVC(kernel=\"linear\")\n",
    "    clf.fit(CV_train_X, CV_train_y)\n",
    "    CV_predicted_y = clf.predict(CV_test_X)\n",
    "    accuracy_scores_SVM = np.append(accuracy_scores_SVM, np.mean(CV_test_y == CV_predicted_y))\n",
    "\n",
    "    clf = RandomForestClassifier()\n",
    "    clf.fit(CV_train_X, CV_train_y)\n",
    "    CV_predicted_y = clf.predict(CV_test_X)\n",
    "    accuracy_scores_RF = np.append(accuracy_scores_RF, np.mean(CV_test_y == CV_predicted_y))\n",
    "\n",
    "print(\"\\n\\n\\n***************k-fold Cross-Validation results for k=10****************\\n\") \n",
    "print(\"Cross validated scores (using SVM) on native implementation : \", np.mean(CV_scores_SVM))\n",
    "print(\"Cross validated scores (using RF) on native implementation : \", np.mean(CV_scores_SVM))\n",
    "print(\"Cross Validated scores (using SVM) on my implementation : \", np.mean(accuracy_scores_SVM))\n",
    "print(\"Cross Validated scores (using RF) on my implementation : \", np.mean(accuracy_scores_RF))\n"
   ]
  },
  {
   "cell_type": "markdown",
   "metadata": {},
   "source": [
    "The results of 10 fold cross-validation on the native implementation of *cross_val_score()* on SVM is quite close to my implementation of the cross-validation (k=10)."
   ]
  },
  {
   "cell_type": "markdown",
   "metadata": {},
   "source": [
    "The cross validated accuracies of Random Forest and Support vector machines are same in the native implementation and quite close to each other in my implementation. These kind of results may have been because of the small amount of trainig data while we were using the native implemention of cross-validation. The data was split into 1:1 ratio making less examples available for trainig the models. In my implementation, the result show that SVM performs better than RF. Random Forest works well with both binary and multiclass classification, that explains it's good results for this perticular problem. \n",
    "Support vector machines are good for problems with binary class classification, while support for multiclass can be implemented using one-vs-one scheme. Since there are only three classes, SVM works pretty well here too. "
   ]
  },
  {
   "cell_type": "markdown",
   "metadata": {},
   "source": [
    "From my point of view, SVM is a better algorithm for this kind of problem because this this algorithm when used with a linear kernel is less prone to overfitting. while Random forest tends to overfit the training data when the data is very less."
   ]
  },
  {
   "cell_type": "markdown",
   "metadata": {},
   "source": [
    "****"
   ]
  },
  {
   "cell_type": "markdown",
   "metadata": {},
   "source": [
    "### Problem 3:"
   ]
  },
  {
   "cell_type": "markdown",
   "metadata": {},
   "source": [
    "In this problem I used a Random forest classifier to train the model and make prediction. For improving the model, standardization of the data is done before feeding the data to learning algorithm. Standardization zeros out the mean of the data and sread the data around the mean in small range of standard deviation. This helps to make the attributes comparable to each other.\n",
    "I used Random forest classifier for this problem because of the robustness of the algorithm. Random Forest generalizes well with the unseen data due to being less prone to overfitting. A well prepared data can be very usefull while using random forest because it helps in better decisions in the trees created. \n",
    "This Random Forest implementation is set for 200 trees and use of only two features for splitting at each tree creation stage. The maximum depth of a tree can go upto 100 levels. "
   ]
  },
  {
   "cell_type": "markdown",
   "metadata": {},
   "source": [
    "The python code below trains a Rnadom forest model on trainig data and makes prediction on testing data provided. The predicted labels are stored in the *predicted_labels.csv*. "
   ]
  },
  {
   "cell_type": "code",
   "execution_count": 31,
   "metadata": {},
   "outputs": [
    {
     "name": "stdout",
     "output_type": "stream",
     "text": [
      "[3. 1. 2. 1. 1. 2. 2. 3. 3. 3. 1. 1. 3. 3. 1. 1. 1. 2. 2. 3. 2. 1. 1. 2.\n",
      " 1. 1. 2. 2. 1. 1. 1. 3. 1. 2. 3. 2. 2. 2. 2. 2. 2. 2. 1. 1. 2. 2. 1. 3.\n",
      " 3. 2. 3. 2. 2. 2. 2. 1. 1. 3.]\n"
     ]
    }
   ],
   "source": [
    "import numpy as np\n",
    "from sklearn.ensemble import RandomForestClassifier\n",
    "from sklearn import preprocessing\n",
    "\n",
    "# load the data\n",
    "train_data = np.loadtxt(\"wine.train\", delimiter=\",\")\n",
    "np.random.seed(10)\n",
    "np.random.shuffle(train_data, )\n",
    "test_data = np.loadtxt(\"wine.test\", delimiter=\",\")\n",
    "# X_train, X_test, y_train, y_test = train_test_split(data[:, 1:13], data[:, 0], test_size=0.3, random_state=10)\n",
    "X_train, X_test, y_train = train_data[:, 1:13], test_data[:, 1:13], train_data[:, 0]\n",
    "\n",
    "# standardising the data\n",
    "X_train = preprocessing.scale(X_train)\n",
    "X_test = preprocessing.scale(X_test)\n",
    "\n",
    "# training the classifier and making predictions\n",
    "clf = RandomForestClassifier(n_estimators=200, max_features=2, max_depth=100, random_state=10)\n",
    "clf.fit(X=X_train, y=y_train)\n",
    "predicted_labels = clf.predict(X_test)\n",
    "np.savetxt(\"predicted_labels.csv\", predicted_labels, delimiter=\",\")\n",
    "print(predicted_labels)"
   ]
  }
 ],
 "metadata": {
  "kernelspec": {
   "display_name": "Python 3",
   "language": "python",
   "name": "python3"
  },
  "language_info": {
   "codemirror_mode": {
    "name": "ipython",
    "version": 3
   },
   "file_extension": ".py",
   "mimetype": "text/x-python",
   "name": "python",
   "nbconvert_exporter": "python",
   "pygments_lexer": "ipython3",
   "version": "3.6.4"
  }
 },
 "nbformat": 4,
 "nbformat_minor": 2
}
